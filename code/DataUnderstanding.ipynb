{
 "cells": [
  {
   "cell_type": "code",
   "execution_count": 2,
   "id": "919bd61e",
   "metadata": {},
   "outputs": [
    {
     "name": "stdout",
     "output_type": "stream",
     "text": [
      "Data Shape:\n",
      "(24783, 7)\n",
      "\n",
      "Columns:\n",
      "Index(['Unnamed: 0', 'count', 'hate_speech', 'offensive_language', 'neither',\n",
      "       'class', 'tweet'],\n",
      "      dtype='object')\n",
      "\n",
      "Data Types:\n",
      "Unnamed: 0             int64\n",
      "count                  int64\n",
      "hate_speech            int64\n",
      "offensive_language     int64\n",
      "neither                int64\n",
      "class                  int64\n",
      "tweet                 object\n",
      "dtype: object\n",
      "\n",
      "Data Head:\n",
      "   Unnamed: 0  count  hate_speech  offensive_language  neither  class  \\\n",
      "0           0      3            0                   0        3      2   \n",
      "1           1      3            0                   3        0      1   \n",
      "2           2      3            0                   3        0      1   \n",
      "3           3      3            0                   2        1      1   \n",
      "4           4      6            0                   6        0      1   \n",
      "\n",
      "                                               tweet  \n",
      "0  !!! RT @mayasolovely: As a woman you shouldn't...  \n",
      "1  !!!!! RT @mleew17: boy dats cold...tyga dwn ba...  \n",
      "2  !!!!!!! RT @UrKindOfBrand Dawg!!!! RT @80sbaby...  \n",
      "3  !!!!!!!!! RT @C_G_Anderson: @viva_based she lo...  \n",
      "4  !!!!!!!!!!!!! RT @ShenikaRoberts: The shit you...  \n",
      "\n",
      "Data Description:\n",
      "         Unnamed: 0         count   hate_speech  offensive_language  \\\n",
      "count  24783.000000  24783.000000  24783.000000        24783.000000   \n",
      "mean   12681.192027      3.243473      0.280515            2.413711   \n",
      "std     7299.553863      0.883060      0.631851            1.399459   \n",
      "min        0.000000      3.000000      0.000000            0.000000   \n",
      "25%     6372.500000      3.000000      0.000000            2.000000   \n",
      "50%    12703.000000      3.000000      0.000000            3.000000   \n",
      "75%    18995.500000      3.000000      0.000000            3.000000   \n",
      "max    25296.000000      9.000000      7.000000            9.000000   \n",
      "\n",
      "            neither         class  \n",
      "count  24783.000000  24783.000000  \n",
      "mean       0.549247      1.110277  \n",
      "std        1.113299      0.462089  \n",
      "min        0.000000      0.000000  \n",
      "25%        0.000000      1.000000  \n",
      "50%        0.000000      1.000000  \n",
      "75%        0.000000      1.000000  \n",
      "max        9.000000      2.000000  \n",
      "\n",
      "Column: Unnamed: 0\n",
      "Unique values count: 24783\n",
      "Value counts: \n",
      "0        1\n",
      "16934    1\n",
      "16907    1\n",
      "16906    1\n",
      "16905    1\n",
      "16904    1\n",
      "16903    1\n",
      "16902    1\n",
      "16901    1\n",
      "16900    1\n",
      "Name: Unnamed: 0, dtype: int64\n",
      "\n",
      "Column: count\n",
      "Unique values count: 5\n",
      "Value counts: \n",
      "3    22807\n",
      "6     1571\n",
      "4      211\n",
      "9      167\n",
      "7       27\n",
      "Name: count, dtype: int64\n",
      "\n",
      "Column: hate_speech\n",
      "Unique values count: 8\n",
      "Value counts: \n",
      "0    19790\n",
      "1     3419\n",
      "2     1251\n",
      "3      287\n",
      "4       21\n",
      "5        7\n",
      "6        5\n",
      "7        3\n",
      "Name: hate_speech, dtype: int64\n",
      "\n",
      "Column: offensive_language\n",
      "Unique values count: 10\n",
      "Value counts: \n",
      "3    13383\n",
      "2     4246\n",
      "0     3475\n",
      "1     2066\n",
      "6      857\n",
      "5      369\n",
      "4      251\n",
      "9       66\n",
      "8       37\n",
      "7       33\n",
      "Name: offensive_language, dtype: int64\n",
      "\n",
      "Column: neither\n",
      "Unique values count: 10\n",
      "Value counts: \n",
      "0    18892\n",
      "3     2790\n",
      "1     1694\n",
      "2     1200\n",
      "6      103\n",
      "5       54\n",
      "4       35\n",
      "9        5\n",
      "8        5\n",
      "7        5\n",
      "Name: neither, dtype: int64\n",
      "\n",
      "Column: class\n",
      "Unique values count: 3\n",
      "Value counts: \n",
      "1    19190\n",
      "2     4163\n",
      "0     1430\n",
      "Name: class, dtype: int64\n",
      "\n",
      "Column: tweet\n",
      "Unique values count: 24783\n",
      "Value counts: \n",
      "!!! RT @mayasolovely: As a woman you shouldn't complain about cleaning up your house. &amp; as a man you should always take the trash out...          1\n",
      "RT @MurderHigashi: I cannot be worried 'bout no bitch.                                                                                                1\n",
      "RT @MrPerfect_22: Most of these niggas go broke for these hoes !!                                                                                     1\n",
      "RT @MrPOONsoaker: Foh RT @Thotcho: @MrPOONsoaker lmao 6&#8242;0 but I&#8217;m hella skinny so bitches don&#8217;t like me                             1\n",
      "RT @MrNationWide: fake eyelashes are okay if they look natural, but some of you bitches look like you gonna take flight if you blink too fa&#8230;    1\n",
      "RT @MrNBAallday: Kobe calls Dwight Howard a \"bitch ass nigga\" &#128514;&#128514;\\n\\nhttps://t.co/9l5E8kKW7D                                           1\n",
      "RT @MrLuckyToYou: If that pussy good, umma moan when um eating it.                                                                                    1\n",
      "RT @MrLuckyToYou: Eat that pussy from the back and slide two fingers in...                                                                            1\n",
      "RT @MrHoratioSanz: Vin Scully once called me a camel jockey. #liesaboutvinscully                                                                      1\n",
      "RT @MrHeadLock101 Either bitches fake gay or fake happy                                                                                               1\n",
      "Name: tweet, dtype: int64\n",
      "\n",
      "Data Quality Report:\n",
      "                    Missing Values  Percentage\n",
      "Unnamed: 0                       0         0.0\n",
      "count                            0         0.0\n",
      "hate_speech                      0         0.0\n",
      "offensive_language               0         0.0\n",
      "neither                          0         0.0\n",
      "class                            0         0.0\n",
      "tweet                            0         0.0\n"
     ]
    },
    {
     "data": {
      "text/plain": [
       "<Figure size 640x480 with 0 Axes>"
      ]
     },
     "metadata": {},
     "output_type": "display_data"
    },
    {
     "data": {
      "text/plain": [
       "<Figure size 640x480 with 0 Axes>"
      ]
     },
     "metadata": {},
     "output_type": "display_data"
    },
    {
     "data": {
      "text/plain": [
       "<Figure size 640x480 with 0 Axes>"
      ]
     },
     "metadata": {},
     "output_type": "display_data"
    },
    {
     "data": {
      "text/plain": [
       "<Figure size 640x480 with 0 Axes>"
      ]
     },
     "metadata": {},
     "output_type": "display_data"
    },
    {
     "data": {
      "text/plain": [
       "<Figure size 640x480 with 0 Axes>"
      ]
     },
     "metadata": {},
     "output_type": "display_data"
    },
    {
     "data": {
      "text/plain": [
       "<Figure size 640x480 with 0 Axes>"
      ]
     },
     "metadata": {},
     "output_type": "display_data"
    },
    {
     "data": {
      "text/plain": [
       "<Figure size 640x480 with 0 Axes>"
      ]
     },
     "metadata": {},
     "output_type": "display_data"
    },
    {
     "data": {
      "text/plain": [
       "<Figure size 640x480 with 0 Axes>"
      ]
     },
     "metadata": {},
     "output_type": "display_data"
    },
    {
     "data": {
      "text/plain": [
       "<Figure size 640x480 with 0 Axes>"
      ]
     },
     "metadata": {},
     "output_type": "display_data"
    },
    {
     "data": {
      "text/plain": [
       "<Figure size 640x480 with 0 Axes>"
      ]
     },
     "metadata": {},
     "output_type": "display_data"
    },
    {
     "data": {
      "text/plain": [
       "<Figure size 640x480 with 0 Axes>"
      ]
     },
     "metadata": {},
     "output_type": "display_data"
    },
    {
     "data": {
      "text/plain": [
       "<Figure size 640x480 with 0 Axes>"
      ]
     },
     "metadata": {},
     "output_type": "display_data"
    },
    {
     "data": {
      "text/plain": [
       "<Figure size 640x480 with 0 Axes>"
      ]
     },
     "metadata": {},
     "output_type": "display_data"
    },
    {
     "data": {
      "text/plain": [
       "<Figure size 640x480 with 0 Axes>"
      ]
     },
     "metadata": {},
     "output_type": "display_data"
    },
    {
     "data": {
      "text/plain": [
       "<Figure size 640x480 with 0 Axes>"
      ]
     },
     "metadata": {},
     "output_type": "display_data"
    }
   ],
   "source": [
    "import pandas as pd\n",
    "import numpy as np\n",
    "import seaborn as sns\n",
    "import matplotlib.pyplot as plt\n",
    "\n",
    "# Read the CSV file into a DataFrame\n",
    "df = pd.read_csv('../data/original_raw_data.csv')\n",
    "\n",
    "# Data Description\n",
    "def data_description(df):\n",
    "    description = [\"Data Shape:\", str(df.shape), \"\\nColumns:\", str(df.columns), \"\\nData Types:\", str(df.dtypes), \"\\nData Head:\", str(df.head()), \"\\nData Description:\", str(df.describe())]\n",
    "    return \"\\n\".join(description)\n",
    "\n",
    "print(data_description(df))\n",
    "\n",
    "# Early Data Exploration Report\n",
    "def early_data_exploration(df):\n",
    "    exploration = []\n",
    "    for col in df.columns:\n",
    "        exploration.extend([\"\\nColumn: \" + col, \"Unique values count: \" + str(df[col].nunique()), \"Value counts: \", str(df[col].value_counts().head(10))])\n",
    "    return \"\\n\".join(exploration)\n",
    "\n",
    "print(early_data_exploration(df))\n",
    "\n",
    "# Data Quality Report\n",
    "def data_quality_report(df):\n",
    "    missing_values = df.isnull().sum()\n",
    "    missing_percentage = (missing_values / df.shape[0]) * 100\n",
    "    data_quality = pd.DataFrame({\"Missing Values\": missing_values, \"Percentage\": missing_percentage})\n",
    "    return \"\\nData Quality Report:\\n\" + str(data_quality)\n",
    "\n",
    "print(data_quality_report(df))\n",
    "\n",
    "# Data Visualization\n",
    "def data_visualization(df):\n",
    "    # Create a directory for saving plots\n",
    "    import os\n",
    "    if not os.path.exists('../docs/plots'):\n",
    "        os.makedirs('../docs/plots')\n",
    "    \n",
    "    # Histograms\n",
    "    for col in df.select_dtypes(include=[np.number]).columns:\n",
    "        plt.figure()\n",
    "        df[col].plot.hist(title=f'Histogram of {col}')\n",
    "        plt.xlabel(col)\n",
    "        plt.savefig(f'../docs/plots/histogram_{col}.png', bbox_inches='tight')\n",
    "        plt.close()\n",
    "\n",
    "    # Bar plots\n",
    "    for col in df.select_dtypes(include=['object', 'category']).columns:\n",
    "        plt.figure()\n",
    "        df[col].value_counts().head(10).plot.bar(title=f'Bar Plot of {col}')\n",
    "        plt.xlabel(col)\n",
    "        plt.savefig(f'../docs/plots/bar_plot_{col}.png', bbox_inches='tight')\n",
    "        plt.close()\n",
    "\n",
    "    # Box plots\n",
    "    for col in df.select_dtypes(include=[np.number]).columns:\n",
    "        plt.figure()\n",
    "        df[col].plot.box(title=f'Box Plot of {col}')\n",
    "        plt.ylabel(col)\n",
    "        plt.savefig(f'../docs/plots/box_plot_{col}.png', bbox_inches='tight')\n",
    "        plt.close()\n",
    "\n",
    "    # Scatter plots\n",
    "    numeric_columns = df.select_dtypes(include=[np.number]).columns\n",
    "    for i in range(len(numeric_columns)):\n",
    "        for j in range(i + 1, len(numeric_columns)):\n",
    "            plt.figure()\n",
    "            df.plot.scatter(x=numeric_columns[i], y=numeric_columns[j], title=f'Scatter Plot of {numeric_columns[i]} vs {numeric_columns[j]}')\n",
    "            plt.savefig(f'../docs/plots/scatter_plot_{numeric_columns[i]}_vs_{numeric_columns[j]}.png', bbox_inches='tight')\n",
    "            plt.close()\n",
    "\n",
    "    # Correlation heatmap\n",
    "    plt.figure()\n",
    "    corr_matrix = df.corr()\n",
    "    sns.heatmap(corr_matrix, annot=True, cmap='coolwarm')\n",
    "    plt.title(\"Correlation Heatmap\")\n",
    "    plt.savefig('../docs/plots/correlation_heatmap.png', bbox_inches='tight')\n",
    "    plt.close()\n",
    "\n",
    "        # Pair plots\n",
    "    g = sns.pairplot(df.select_dtypes(include=[np.number]))\n",
    "    g.fig.suptitle(\"Pair Plots\", y=1.02)\n",
    "    g.savefig('../docs/plots/pair_plots.png', bbox_inches='tight')\n",
    "    plt.close()\n",
    "\n",
    "    # Stacked bar plots\n",
    "    cat_columns = df.select_dtypes(include=['object', 'category']).columns\n",
    "    for i in range(len(cat_columns)):\n",
    "        for j in range(i + 1, len(cat_columns)):\n",
    "            plt.figure()\n",
    "            crosstab = pd.crosstab(df[cat_columns[i]], df[cat_columns[j]])\n",
    "            crosstab.plot.bar(stacked=True, title=f'Stacked Bar Plot of {cat_columns[i]} vs {cat_columns[j]}')\n",
    "            plt.xlabel(cat_columns[i])\n",
    "            plt.savefig(f'../docs/plots/stacked_bar_plot_{cat_columns[i]}_vs_{cat_columns[j]}.png', bbox_inches='tight')\n",
    "            plt.close()\n",
    "\n",
    "data_visualization(df)\n",
    "\n",
    "# Save the reports to files in the specified directory\n",
    "def save_reports():\n",
    "    target_directory = \"../docs/\"\n",
    "    with open(f'{target_directory}data_description.txt', 'w') as file:\n",
    "        file.write(data_description(df))\n",
    "    with open(f'{target_directory}early_data_exploration.txt', 'w') as file:\n",
    "        file.write(early_data_exploration(df))\n",
    "    with open(f'{target_directory}data_quality_report.txt', 'w') as file:\n",
    "        file.write(data_quality_report(df))\n",
    "\n",
    "save_reports()\n",
    "\n"
   ]
  },
  {
   "cell_type": "code",
   "execution_count": null,
   "id": "4e9ede20",
   "metadata": {},
   "outputs": [],
   "source": []
  }
 ],
 "metadata": {
  "kernelspec": {
   "display_name": "Python 3 (ipykernel)",
   "language": "python",
   "name": "python3"
  },
  "language_info": {
   "codemirror_mode": {
    "name": "ipython",
    "version": 3
   },
   "file_extension": ".py",
   "mimetype": "text/x-python",
   "name": "python",
   "nbconvert_exporter": "python",
   "pygments_lexer": "ipython3",
   "version": "3.9.13"
  }
 },
 "nbformat": 4,
 "nbformat_minor": 5
}
