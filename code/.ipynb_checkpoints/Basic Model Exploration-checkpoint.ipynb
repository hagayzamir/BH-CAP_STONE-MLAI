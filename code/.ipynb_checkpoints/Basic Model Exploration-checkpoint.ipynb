{
 "cells": [
  {
   "cell_type": "markdown",
   "id": "21e80323",
   "metadata": {},
   "source": [
    "# Basic Model Exploration"
   ]
  },
  {
   "cell_type": "markdown",
   "id": "0d175eef",
   "metadata": {},
   "source": [
    "#### Import all the required libraries"
   ]
  },
  {
   "cell_type": "code",
   "execution_count": 21,
   "id": "f4a700b5",
   "metadata": {},
   "outputs": [],
   "source": [
    "# Import libraries\n",
    "import pandas as pd\n",
    "import numpy as np\n",
    "import time\n",
    "import matplotlib.pyplot as plt\n",
    "import seaborn as sns\n",
    "from sklearn.feature_extraction.text import CountVectorizer, TfidfVectorizer\n",
    "from sklearn.model_selection import train_test_split, GridSearchCV\n",
    "from sklearn.linear_model import LogisticRegression\n",
    "from sklearn.tree import DecisionTreeClassifier\n",
    "from sklearn.naive_bayes import MultinomialNB\n",
    "from sklearn.pipeline import Pipeline\n",
    "from sklearn.metrics import accuracy_score, confusion_matrix, classification_report, plot_confusion_matrix\n",
    "from nltk.stem import PorterStemmer\n",
    "from nltk.stem import WordNetLemmatizer\n",
    "from nltk.tokenize import word_tokenize, TweetTokenizer\n",
    "from nltk.corpus import stopwords\n",
    "import nltk\n",
    "import warnings\n",
    "from sklearn.exceptions import ConvergenceWarning\n",
    "# Suppress warnings\n",
    "warnings.filterwarnings(\"ignore\", category=ConvergenceWarning)\n",
    "warnings.filterwarnings(\"ignore\", category=FutureWarning)\n",
    "warnings.filterwarnings(\"ignore\", category=DeprecationWarning) "
   ]
  },
  {
   "cell_type": "markdown",
   "id": "7baec81b",
   "metadata": {},
   "source": [
    "#### Read the data into a pandas dataframe"
   ]
  },
  {
   "cell_type": "code",
   "execution_count": 22,
   "id": "f51bc938",
   "metadata": {},
   "outputs": [],
   "source": [
    "# Read the CSV file into a DataFrame\n",
    "df = pd.read_csv('../data/original_raw_data.csv')"
   ]
  },
  {
   "cell_type": "code",
   "execution_count": 23,
   "id": "1c5b477f",
   "metadata": {},
   "outputs": [
    {
     "data": {
      "text/html": [
       "<div>\n",
       "<style scoped>\n",
       "    .dataframe tbody tr th:only-of-type {\n",
       "        vertical-align: middle;\n",
       "    }\n",
       "\n",
       "    .dataframe tbody tr th {\n",
       "        vertical-align: top;\n",
       "    }\n",
       "\n",
       "    .dataframe thead th {\n",
       "        text-align: right;\n",
       "    }\n",
       "</style>\n",
       "<table border=\"1\" class=\"dataframe\">\n",
       "  <thead>\n",
       "    <tr style=\"text-align: right;\">\n",
       "      <th></th>\n",
       "      <th>Unnamed: 0</th>\n",
       "      <th>count</th>\n",
       "      <th>hate_speech</th>\n",
       "      <th>offensive_language</th>\n",
       "      <th>neither</th>\n",
       "      <th>class</th>\n",
       "      <th>tweet</th>\n",
       "    </tr>\n",
       "  </thead>\n",
       "  <tbody>\n",
       "    <tr>\n",
       "      <th>17984</th>\n",
       "      <td>18388</td>\n",
       "      <td>3</td>\n",
       "      <td>0</td>\n",
       "      <td>3</td>\n",
       "      <td>0</td>\n",
       "      <td>1</td>\n",
       "      <td>RT @Vianka_V: Hoes, hoes ain't nothin' but hoes.</td>\n",
       "    </tr>\n",
       "    <tr>\n",
       "      <th>74</th>\n",
       "      <td>74</td>\n",
       "      <td>3</td>\n",
       "      <td>1</td>\n",
       "      <td>2</td>\n",
       "      <td>0</td>\n",
       "      <td>1</td>\n",
       "      <td>\"@BVSEDCHINK: Yo fuck skateboarding, all y'all...</td>\n",
       "    </tr>\n",
       "    <tr>\n",
       "      <th>19880</th>\n",
       "      <td>20321</td>\n",
       "      <td>3</td>\n",
       "      <td>2</td>\n",
       "      <td>1</td>\n",
       "      <td>0</td>\n",
       "      <td>0</td>\n",
       "      <td>RT @rachael_goss: Who wants to chill on campus...</td>\n",
       "    </tr>\n",
       "    <tr>\n",
       "      <th>1820</th>\n",
       "      <td>1857</td>\n",
       "      <td>6</td>\n",
       "      <td>0</td>\n",
       "      <td>6</td>\n",
       "      <td>0</td>\n",
       "      <td>1</td>\n",
       "      <td>&amp;#8220;@kincade00: Rico full of shyt&amp;#8221;ful...</td>\n",
       "    </tr>\n",
       "    <tr>\n",
       "      <th>1113</th>\n",
       "      <td>1137</td>\n",
       "      <td>3</td>\n",
       "      <td>1</td>\n",
       "      <td>0</td>\n",
       "      <td>2</td>\n",
       "      <td>2</td>\n",
       "      <td>&amp;#8220;@AshlynWynns: I'm a \"mud shark\" because...</td>\n",
       "    </tr>\n",
       "  </tbody>\n",
       "</table>\n",
       "</div>"
      ],
      "text/plain": [
       "       Unnamed: 0  count  hate_speech  offensive_language  neither  class  \\\n",
       "17984       18388      3            0                   3        0      1   \n",
       "74             74      3            1                   2        0      1   \n",
       "19880       20321      3            2                   1        0      0   \n",
       "1820         1857      6            0                   6        0      1   \n",
       "1113         1137      3            1                   0        2      2   \n",
       "\n",
       "                                                   tweet  \n",
       "17984   RT @Vianka_V: Hoes, hoes ain't nothin' but hoes.  \n",
       "74     \"@BVSEDCHINK: Yo fuck skateboarding, all y'all...  \n",
       "19880  RT @rachael_goss: Who wants to chill on campus...  \n",
       "1820   &#8220;@kincade00: Rico full of shyt&#8221;ful...  \n",
       "1113   &#8220;@AshlynWynns: I'm a \"mud shark\" because...  "
      ]
     },
     "execution_count": 23,
     "metadata": {},
     "output_type": "execute_result"
    }
   ],
   "source": [
    "df.sample(5)"
   ]
  },
  {
   "cell_type": "code",
   "execution_count": 24,
   "id": "9f1ae0d2",
   "metadata": {},
   "outputs": [],
   "source": [
    "# Removing the 'Unnamed: 0' column\n",
    "df = df.drop('Unnamed: 0', axis=1)"
   ]
  },
  {
   "cell_type": "code",
   "execution_count": 25,
   "id": "48acbaeb",
   "metadata": {},
   "outputs": [
    {
     "data": {
      "text/html": [
       "<div>\n",
       "<style scoped>\n",
       "    .dataframe tbody tr th:only-of-type {\n",
       "        vertical-align: middle;\n",
       "    }\n",
       "\n",
       "    .dataframe tbody tr th {\n",
       "        vertical-align: top;\n",
       "    }\n",
       "\n",
       "    .dataframe thead th {\n",
       "        text-align: right;\n",
       "    }\n",
       "</style>\n",
       "<table border=\"1\" class=\"dataframe\">\n",
       "  <thead>\n",
       "    <tr style=\"text-align: right;\">\n",
       "      <th></th>\n",
       "      <th>count</th>\n",
       "      <th>hate_speech</th>\n",
       "      <th>offensive_language</th>\n",
       "      <th>neither</th>\n",
       "      <th>class</th>\n",
       "      <th>tweet</th>\n",
       "    </tr>\n",
       "  </thead>\n",
       "  <tbody>\n",
       "    <tr>\n",
       "      <th>17746</th>\n",
       "      <td>3</td>\n",
       "      <td>1</td>\n",
       "      <td>2</td>\n",
       "      <td>0</td>\n",
       "      <td>1</td>\n",
       "      <td>RT @The_Paradox: FAGGOT RT @80sbaby4life: I wa...</td>\n",
       "    </tr>\n",
       "    <tr>\n",
       "      <th>10777</th>\n",
       "      <td>3</td>\n",
       "      <td>0</td>\n",
       "      <td>3</td>\n",
       "      <td>0</td>\n",
       "      <td>1</td>\n",
       "      <td>I need a bitch to go down like I need a beat</td>\n",
       "    </tr>\n",
       "    <tr>\n",
       "      <th>8650</th>\n",
       "      <td>3</td>\n",
       "      <td>0</td>\n",
       "      <td>3</td>\n",
       "      <td>0</td>\n",
       "      <td>1</td>\n",
       "      <td>Dat bitch gotta lay on her back to pee https:/...</td>\n",
       "    </tr>\n",
       "    <tr>\n",
       "      <th>24050</th>\n",
       "      <td>3</td>\n",
       "      <td>0</td>\n",
       "      <td>0</td>\n",
       "      <td>3</td>\n",
       "      <td>2</td>\n",
       "      <td>if u don't buy the box of colored goldfish you...</td>\n",
       "    </tr>\n",
       "    <tr>\n",
       "      <th>21411</th>\n",
       "      <td>3</td>\n",
       "      <td>0</td>\n",
       "      <td>3</td>\n",
       "      <td>0</td>\n",
       "      <td>1</td>\n",
       "      <td>That nigga gucci always hits that hoe when he ...</td>\n",
       "    </tr>\n",
       "  </tbody>\n",
       "</table>\n",
       "</div>"
      ],
      "text/plain": [
       "       count  hate_speech  offensive_language  neither  class  \\\n",
       "17746      3            1                   2        0      1   \n",
       "10777      3            0                   3        0      1   \n",
       "8650       3            0                   3        0      1   \n",
       "24050      3            0                   0        3      2   \n",
       "21411      3            0                   3        0      1   \n",
       "\n",
       "                                                   tweet  \n",
       "17746  RT @The_Paradox: FAGGOT RT @80sbaby4life: I wa...  \n",
       "10777       I need a bitch to go down like I need a beat  \n",
       "8650   Dat bitch gotta lay on her back to pee https:/...  \n",
       "24050  if u don't buy the box of colored goldfish you...  \n",
       "21411  That nigga gucci always hits that hoe when he ...  "
      ]
     },
     "execution_count": 25,
     "metadata": {},
     "output_type": "execute_result"
    }
   ],
   "source": [
    "df.sample(5)"
   ]
  },
  {
   "cell_type": "markdown",
   "id": "3b5aaecc",
   "metadata": {},
   "source": [
    "### Understanding the Features\n",
    "\n",
    "    1 - count (numeric - representative of the total number of people who rated this entry)\n",
    "    2 - hate_speech (numeric - from the total count above)\n",
    "    3 - offensive_language (numeric - from the total count above)\n",
    "    4 - neither (numeric - from the total count above)\n",
    "    5 - class (numeric 0 - offensive , 1 - hate speech or 2 - neither)\n",
    "    6 - tweet - (text) "
   ]
  },
  {
   "cell_type": "code",
   "execution_count": 26,
   "id": "b7d26613",
   "metadata": {},
   "outputs": [],
   "source": [
    "# Initialize lemmatizer, stemmer and TweetTokenizer\n",
    "lemmatizer = WordNetLemmatizer()\n",
    "stemmer = PorterStemmer()\n",
    "tweet_tokenizer = TweetTokenizer()"
   ]
  },
  {
   "cell_type": "code",
   "execution_count": 27,
   "id": "0ba5889e",
   "metadata": {},
   "outputs": [],
   "source": [
    "# Define stopwords\n",
    "stop_words = set(stopwords.words('english'))\n",
    "\n",
    "# Remove 'rt' as it refer to a re-tweet in the tweeet and is non important for our model\n",
    "stop_words.update(['RT', 'I'])"
   ]
  },
  {
   "cell_type": "markdown",
   "id": "145ca063",
   "metadata": {},
   "source": [
    ">The preprocess_text function below **tokenizes** the input text, **lemmatizes and stems the tokens**, **removes stopwords** and **non-alphabetic** tokens. The function then **joins** the processed tokens back into a single string and returns it."
   ]
  },
  {
   "cell_type": "code",
   "execution_count": 28,
   "id": "2079d142",
   "metadata": {},
   "outputs": [],
   "source": [
    "def preprocess_text(text):\n",
    "    # Tokenize the text\n",
    "    word_tokens = tweet_tokenizer.tokenize(text)\n",
    "\n",
    "    # Lemmatize the tokens, stem the tokens, remove stopwords and non-alphabetic tokens\n",
    "    processed_tokens = [stemmer.stem(lemmatizer.lemmatize(w)) for w in word_tokens if w not in stop_words and w.isalpha()]\n",
    "\n",
    "    # Join the tokens back into a single string and return it\n",
    "    return ' '.join(processed_tokens)"
   ]
  },
  {
   "cell_type": "code",
   "execution_count": 29,
   "id": "c5a4881f",
   "metadata": {},
   "outputs": [],
   "source": [
    "# Apply the preprocessing function to the 'tweet' column\n",
    "df['processed_tweet'] = df['tweet'].apply(preprocess_text)"
   ]
  },
  {
   "cell_type": "code",
   "execution_count": 30,
   "id": "ffefea90",
   "metadata": {},
   "outputs": [
    {
     "data": {
      "text/html": [
       "<div>\n",
       "<style scoped>\n",
       "    .dataframe tbody tr th:only-of-type {\n",
       "        vertical-align: middle;\n",
       "    }\n",
       "\n",
       "    .dataframe tbody tr th {\n",
       "        vertical-align: top;\n",
       "    }\n",
       "\n",
       "    .dataframe thead th {\n",
       "        text-align: right;\n",
       "    }\n",
       "</style>\n",
       "<table border=\"1\" class=\"dataframe\">\n",
       "  <thead>\n",
       "    <tr style=\"text-align: right;\">\n",
       "      <th></th>\n",
       "      <th>count</th>\n",
       "      <th>hate_speech</th>\n",
       "      <th>offensive_language</th>\n",
       "      <th>neither</th>\n",
       "      <th>class</th>\n",
       "      <th>tweet</th>\n",
       "      <th>processed_tweet</th>\n",
       "    </tr>\n",
       "  </thead>\n",
       "  <tbody>\n",
       "    <tr>\n",
       "      <th>0</th>\n",
       "      <td>3</td>\n",
       "      <td>0</td>\n",
       "      <td>0</td>\n",
       "      <td>3</td>\n",
       "      <td>2</td>\n",
       "      <td>!!! RT @mayasolovely: As a woman you shouldn't...</td>\n",
       "      <td>as woman complain clean hous man alway take trash</td>\n",
       "    </tr>\n",
       "    <tr>\n",
       "      <th>1</th>\n",
       "      <td>3</td>\n",
       "      <td>0</td>\n",
       "      <td>3</td>\n",
       "      <td>0</td>\n",
       "      <td>1</td>\n",
       "      <td>!!!!! RT @mleew17: boy dats cold...tyga dwn ba...</td>\n",
       "      <td>boy dat cold tyga dwn bad cuffin dat hoe place</td>\n",
       "    </tr>\n",
       "    <tr>\n",
       "      <th>2</th>\n",
       "      <td>3</td>\n",
       "      <td>0</td>\n",
       "      <td>3</td>\n",
       "      <td>0</td>\n",
       "      <td>1</td>\n",
       "      <td>!!!!!!! RT @UrKindOfBrand Dawg!!!! RT @80sbaby...</td>\n",
       "      <td>dawg you ever fuck bitch start cri you confus ...</td>\n",
       "    </tr>\n",
       "    <tr>\n",
       "      <th>3</th>\n",
       "      <td>3</td>\n",
       "      <td>0</td>\n",
       "      <td>2</td>\n",
       "      <td>1</td>\n",
       "      <td>1</td>\n",
       "      <td>!!!!!!!!! RT @C_G_Anderson: @viva_based she lo...</td>\n",
       "      <td>look like tranni</td>\n",
       "    </tr>\n",
       "    <tr>\n",
       "      <th>4</th>\n",
       "      <td>6</td>\n",
       "      <td>0</td>\n",
       "      <td>6</td>\n",
       "      <td>0</td>\n",
       "      <td>1</td>\n",
       "      <td>!!!!!!!!!!!!! RT @ShenikaRoberts: The shit you...</td>\n",
       "      <td>the shit hear might true might faker bitch tol...</td>\n",
       "    </tr>\n",
       "    <tr>\n",
       "      <th>...</th>\n",
       "      <td>...</td>\n",
       "      <td>...</td>\n",
       "      <td>...</td>\n",
       "      <td>...</td>\n",
       "      <td>...</td>\n",
       "      <td>...</td>\n",
       "      <td>...</td>\n",
       "    </tr>\n",
       "    <tr>\n",
       "      <th>24778</th>\n",
       "      <td>3</td>\n",
       "      <td>0</td>\n",
       "      <td>2</td>\n",
       "      <td>1</td>\n",
       "      <td>1</td>\n",
       "      <td>you's a muthaf***in lie &amp;#8220;@LifeAsKing: @2...</td>\n",
       "      <td>muthaf lie right hi tl trash now mine bibl scr...</td>\n",
       "    </tr>\n",
       "    <tr>\n",
       "      <th>24779</th>\n",
       "      <td>3</td>\n",
       "      <td>0</td>\n",
       "      <td>1</td>\n",
       "      <td>2</td>\n",
       "      <td>2</td>\n",
       "      <td>you've gone and broke the wrong heart baby, an...</td>\n",
       "      <td>gone broke wrong heart babi drove redneck crazi</td>\n",
       "    </tr>\n",
       "    <tr>\n",
       "      <th>24780</th>\n",
       "      <td>3</td>\n",
       "      <td>0</td>\n",
       "      <td>3</td>\n",
       "      <td>0</td>\n",
       "      <td>1</td>\n",
       "      <td>young buck wanna eat!!.. dat nigguh like I ain...</td>\n",
       "      <td>young buck wanna eat dat nigguh like aint fuck...</td>\n",
       "    </tr>\n",
       "    <tr>\n",
       "      <th>24781</th>\n",
       "      <td>6</td>\n",
       "      <td>0</td>\n",
       "      <td>6</td>\n",
       "      <td>0</td>\n",
       "      <td>1</td>\n",
       "      <td>youu got wild bitches tellin you lies</td>\n",
       "      <td>youu got wild bitch tellin lie</td>\n",
       "    </tr>\n",
       "    <tr>\n",
       "      <th>24782</th>\n",
       "      <td>3</td>\n",
       "      <td>0</td>\n",
       "      <td>0</td>\n",
       "      <td>3</td>\n",
       "      <td>2</td>\n",
       "      <td>~~Ruffled | Ntac Eileen Dahlia - Beautiful col...</td>\n",
       "      <td>ruffl ntac eileen dahlia beauti color combin p...</td>\n",
       "    </tr>\n",
       "  </tbody>\n",
       "</table>\n",
       "<p>24783 rows × 7 columns</p>\n",
       "</div>"
      ],
      "text/plain": [
       "       count  hate_speech  offensive_language  neither  class  \\\n",
       "0          3            0                   0        3      2   \n",
       "1          3            0                   3        0      1   \n",
       "2          3            0                   3        0      1   \n",
       "3          3            0                   2        1      1   \n",
       "4          6            0                   6        0      1   \n",
       "...      ...          ...                 ...      ...    ...   \n",
       "24778      3            0                   2        1      1   \n",
       "24779      3            0                   1        2      2   \n",
       "24780      3            0                   3        0      1   \n",
       "24781      6            0                   6        0      1   \n",
       "24782      3            0                   0        3      2   \n",
       "\n",
       "                                                   tweet  \\\n",
       "0      !!! RT @mayasolovely: As a woman you shouldn't...   \n",
       "1      !!!!! RT @mleew17: boy dats cold...tyga dwn ba...   \n",
       "2      !!!!!!! RT @UrKindOfBrand Dawg!!!! RT @80sbaby...   \n",
       "3      !!!!!!!!! RT @C_G_Anderson: @viva_based she lo...   \n",
       "4      !!!!!!!!!!!!! RT @ShenikaRoberts: The shit you...   \n",
       "...                                                  ...   \n",
       "24778  you's a muthaf***in lie &#8220;@LifeAsKing: @2...   \n",
       "24779  you've gone and broke the wrong heart baby, an...   \n",
       "24780  young buck wanna eat!!.. dat nigguh like I ain...   \n",
       "24781              youu got wild bitches tellin you lies   \n",
       "24782  ~~Ruffled | Ntac Eileen Dahlia - Beautiful col...   \n",
       "\n",
       "                                         processed_tweet  \n",
       "0      as woman complain clean hous man alway take trash  \n",
       "1         boy dat cold tyga dwn bad cuffin dat hoe place  \n",
       "2      dawg you ever fuck bitch start cri you confus ...  \n",
       "3                                       look like tranni  \n",
       "4      the shit hear might true might faker bitch tol...  \n",
       "...                                                  ...  \n",
       "24778  muthaf lie right hi tl trash now mine bibl scr...  \n",
       "24779    gone broke wrong heart babi drove redneck crazi  \n",
       "24780  young buck wanna eat dat nigguh like aint fuck...  \n",
       "24781                     youu got wild bitch tellin lie  \n",
       "24782  ruffl ntac eileen dahlia beauti color combin p...  \n",
       "\n",
       "[24783 rows x 7 columns]"
      ]
     },
     "execution_count": 30,
     "metadata": {},
     "output_type": "execute_result"
    }
   ],
   "source": [
    "df"
   ]
  },
  {
   "cell_type": "markdown",
   "id": "d590f36f",
   "metadata": {},
   "source": [
    "## Baseline Models"
   ]
  },
  {
   "cell_type": "code",
   "execution_count": 31,
   "id": "48adbf97",
   "metadata": {},
   "outputs": [],
   "source": [
    "# Prepare the text data\n",
    "X_processed = df['processed_tweet']\n",
    "y = df['class']\n",
    "\n",
    "X_train_processed, X_test_processed, y_train_processed, y_test_processed = train_test_split(X_processed, y, test_size=0.2, random_state=42)"
   ]
  },
  {
   "cell_type": "markdown",
   "id": "6971f5df",
   "metadata": {},
   "source": [
    ">A good baseline model for text classification could be a simple model like **Naive Bayes** or **Logistic Regression**, using the **CountVectorizer** without any hyperparameters tuning. This model serves as a starting point for performance comparison with more complex models."
   ]
  },
  {
   "cell_type": "markdown",
   "id": "4d747050",
   "metadata": {},
   "source": [
    "#### Naive Bayes"
   ]
  },
  {
   "cell_type": "code",
   "execution_count": 42,
   "id": "1b9c07fa",
   "metadata": {},
   "outputs": [
    {
     "data": {
      "text/plain": [
       "0.0024008671442667644"
      ]
     },
     "execution_count": 42,
     "metadata": {},
     "output_type": "execute_result"
    }
   ],
   "source": [
    "# Naive Bayes baseline\n",
    "nb_baseline = Pipeline([\n",
    "    ('count_vectorizer', CountVectorizer()),\n",
    "    ('multinomial_nb', MultinomialNB())\n",
    "])\n",
    "start_time = time.time()\n",
    "nb_baseline.fit(X_train_processed, y_train_processed)\n",
    "nb_baseline_elapsed_time = (time.time() - start_time) / 60\n",
    "nb_baseline_elapsed_time"
   ]
  },
  {
   "cell_type": "code",
   "execution_count": 33,
   "id": "602548d4",
   "metadata": {},
   "outputs": [],
   "source": [
    "# Predicting on test set\n",
    "y_pred = nb_baseline.predict(X_test_processed)"
   ]
  },
  {
   "cell_type": "code",
   "execution_count": 34,
   "id": "a045327b",
   "metadata": {},
   "outputs": [
    {
     "name": "stdout",
     "output_type": "stream",
     "text": [
      "              precision    recall  f1-score   support\n",
      "\n",
      "           0       0.40      0.06      0.10       290\n",
      "           1       0.88      0.98      0.93      3832\n",
      "           2       0.85      0.64      0.73       835\n",
      "\n",
      "    accuracy                           0.87      4957\n",
      "   macro avg       0.71      0.56      0.58      4957\n",
      "weighted avg       0.84      0.87      0.84      4957\n",
      "\n"
     ]
    }
   ],
   "source": [
    "# Evaluation\n",
    "print(classification_report(y_test_processed, y_pred))"
   ]
  },
  {
   "cell_type": "markdown",
   "id": "2ec5c400",
   "metadata": {},
   "source": [
    "#### Logistic Regression"
   ]
  },
  {
   "cell_type": "code",
   "execution_count": 43,
   "id": "444fddfb",
   "metadata": {},
   "outputs": [
    {
     "data": {
      "text/plain": [
       "0.012700800100962322"
      ]
     },
     "execution_count": 43,
     "metadata": {},
     "output_type": "execute_result"
    }
   ],
   "source": [
    "# Logistic Regression baseline\n",
    "lr_baseline = Pipeline([\n",
    "    ('count_vectorizer', CountVectorizer()),\n",
    "    ('logistic_regression', LogisticRegression())\n",
    "])\n",
    "\n",
    "start_time = time.time()\n",
    "lr_baseline.fit(X_train_processed, y_train_processed)\n",
    "lr_baseline_elapsed_time = (time.time() - start_time) / 60\n",
    "lr_baseline_elapsed_time"
   ]
  },
  {
   "cell_type": "code",
   "execution_count": 36,
   "id": "f9f8100f",
   "metadata": {},
   "outputs": [],
   "source": [
    "# Predicting on test set\n",
    "y_pred = lr_baseline.predict(X_test_processed)"
   ]
  },
  {
   "cell_type": "code",
   "execution_count": 37,
   "id": "296897a9",
   "metadata": {},
   "outputs": [
    {
     "name": "stdout",
     "output_type": "stream",
     "text": [
      "              precision    recall  f1-score   support\n",
      "\n",
      "           0       0.48      0.24      0.32       290\n",
      "           1       0.93      0.95      0.94      3832\n",
      "           2       0.83      0.88      0.86       835\n",
      "\n",
      "    accuracy                           0.90      4957\n",
      "   macro avg       0.75      0.69      0.71      4957\n",
      "weighted avg       0.89      0.90      0.89      4957\n",
      "\n"
     ]
    }
   ],
   "source": [
    "# Evaluation\n",
    "print(classification_report(y_test_processed, y_pred))"
   ]
  },
  {
   "cell_type": "code",
   "execution_count": 38,
   "id": "fa4b5f5d",
   "metadata": {},
   "outputs": [
    {
     "data": {
      "image/png": "[encoded data removed]",
      "text/plain": [
       "<Figure size 640x480 with 2 Axes>"
      ]
     },
     "metadata": {},
     "output_type": "display_data"
    },
    {
     "data": {
      "image/png": "[encoded data removed]",
      "text/plain": [
       "<Figure size 640x480 with 2 Axes>"
      ]
     },
     "metadata": {},
     "output_type": "display_data"
    }
   ],
   "source": [
    "# Naive Bayes\n",
    "y_pred_nb = nb_baseline.predict(X_test_processed)\n",
    "cm_nb = confusion_matrix(y_test_processed, y_pred_nb)\n",
    "\n",
    "# Plot confusion matrix for Naive Bayes\n",
    "plot_confusion_matrix(nb_baseline, X_test_processed, y_test_processed, cmap=plt.cm.Blues)\n",
    "plt.title(\"Naive Bayes Confusion Matrix\")\n",
    "plt.show()\n",
    "\n",
    "# Logistic Regression\n",
    "y_pred_lr = lr_baseline.predict(X_test_processed)\n",
    "cm_lr = confusion_matrix(y_test_processed, y_pred_lr)\n",
    "\n",
    "# Plot confusion matrix for Logistic Regression\n",
    "plot_confusion_matrix(lr_baseline, X_test_processed, y_test_processed, cmap=plt.cm.Blues)\n",
    "plt.title(\"Logistic Regression Confusion Matrix\")\n",
    "plt.show()"
   ]
  },
  {
   "cell_type": "code",
   "execution_count": 39,
   "id": "8cbc6d8c",
   "metadata": {},
   "outputs": [
    {
     "name": "stdout",
     "output_type": "stream",
     "text": [
      "Naive Bayes Baseline Model Accuracy: 86.91%\n",
      "Logistic Regression Baseline Model Accuracy: 89.75%\n"
     ]
    }
   ],
   "source": [
    "# Naive Bayes\n",
    "nb_baseline_accuracy = accuracy_score(y_test_processed, y_pred_nb)\n",
    "print(f\"Naive Bayes Baseline Model Accuracy: {nb_baseline_accuracy * 100:.2f}%\")\n",
    "\n",
    "# Logistic Regression\n",
    "lr_baseline_accuracy = accuracy_score(y_test_processed, y_pred_lr)\n",
    "print(f\"Logistic Regression Baseline Model Accuracy: {lr_baseline_accuracy * 100:.2f}%\")"
   ]
  },
  {
   "cell_type": "code",
   "execution_count": 40,
   "id": "50cae336",
   "metadata": {},
   "outputs": [
    {
     "data": {
      "image/png": "[encoded data removed]",
      "text/plain": [
       "<Figure size 800x600 with 1 Axes>"
      ]
     },
     "metadata": {},
     "output_type": "display_data"
    }
   ],
   "source": [
    "# Define the model names and accuracies in lists\n",
    "models = ['Naive Bayes', 'Logistic Regression']\n",
    "accuracies = [nb_baseline_accuracy * 100, lr_baseline_accuracy * 100]\n",
    "\n",
    "# Create a bar plot\n",
    "plt.figure(figsize=(8, 6))\n",
    "plt.bar(models, accuracies, color=['blue', 'green'])\n",
    "\n",
    "# Add title and labels\n",
    "plt.title('Model Accuracy Comparison')\n",
    "plt.xlabel('Model')\n",
    "plt.ylabel('Accuracy (%)')\n",
    "\n",
    "# Show the plot\n",
    "plt.show()"
   ]
  },
  {
   "cell_type": "code",
   "execution_count": null,
   "id": "6d5d5f0e",
   "metadata": {},
   "outputs": [],
   "source": []
  }
 ],
 "metadata": {
  "kernelspec": {
   "display_name": "Python 3 (ipykernel)",
   "language": "python",
   "name": "python3"
  },
  "language_info": {
   "codemirror_mode": {
    "name": "ipython",
    "version": 3
   },
   "file_extension": ".py",
   "mimetype": "text/x-python",
   "name": "python",
   "nbconvert_exporter": "python",
   "pygments_lexer": "ipython3",
   "version": "3.9.13"
  }
 },
 "nbformat": 4,
 "nbformat_minor": 5
}
