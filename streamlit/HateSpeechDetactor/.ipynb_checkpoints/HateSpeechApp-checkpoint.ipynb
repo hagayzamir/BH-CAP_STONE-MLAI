{
 "cells": [
  {
   "cell_type": "code",
   "execution_count": 1,
   "id": "22b1f122",
   "metadata": {},
   "outputs": [
    {
     "name": "stderr",
     "output_type": "stream",
     "text": [
      "2023-05-26 17:56:20.403 \n",
      "  \u001b[33m\u001b[1mWarning:\u001b[0m to view this Streamlit app on a browser, run it with the following\n",
      "  command:\n",
      "\n",
      "    streamlit run /Users/hagayzamir/opt/anaconda3/lib/python3.9/site-packages/ipykernel_launcher.py [ARGUMENTS]\n"
     ]
    }
   ],
   "source": [
    "# Import libraries\n",
    "import streamlit as st\n",
    "from sklearn.feature_extraction.text import CountVectorizer\n",
    "from nltk.stem import PorterStemmer, WordNetLemmatizer\n",
    "from nltk.tokenize import TweetTokenizer\n",
    "from nltk.corpus import stopwords\n",
    "import joblib\n",
    "\n",
    "# Load model\n",
    "model = joblib.load('hate_speech_detector.joblib')\n",
    "\n",
    "# Function to process input\n",
    "def preprocess_text(text):\n",
    "    # Initialize lemmatizer, stemmer and TweetTokenizer\n",
    "    lemmatizer = WordNetLemmatizer()\n",
    "    stemmer = PorterStemmer()\n",
    "    tweet_tokenizer = TweetTokenizer()\n",
    "\n",
    "    # Define stopwords\n",
    "    stop_words = set(stopwords.words('english'))\n",
    "\n",
    "    # Remove 'RT' as it refer to a re-tweet in the tweeet and is non important for our model\n",
    "    stop_words.update(['RT', 'I'])\n",
    "\n",
    "    # Tokenize the text\n",
    "    word_tokens = tweet_tokenizer.tokenize(text)\n",
    "\n",
    "    # Lemmatize the tokens, stem the tokens, remove stopwords and non-alphabetic tokens\n",
    "    processed_tokens = [stemmer.stem(lemmatizer.lemmatize(w)) for w in word_tokens if w not in stop_words and w.isalpha()]\n",
    "\n",
    "    # Join the tokens back into a single string and return it\n",
    "    return ' '.join(processed_tokens)\n",
    "\n",
    "# Streamlit code\n",
    "st.title(\"Hate Speech Detector\")\n",
    "\n",
    "user_input = st.text_input(\"Enter the text you want to analyze:\")\n",
    "\n",
    "if st.button(\"Analyze\"):\n",
    "    # Preprocess the input\n",
    "    processed_input = preprocess_text(user_input)\n",
    "\n",
    "    # Make the prediction\n",
    "    prediction = model.predict([processed_input])\n",
    "\n",
    "    if prediction[0] == 0: \n",
    "        st.write(\"This text is likely to be offensive.\")\n",
    "    elif prediction[0] == 1:\n",
    "        st.write(\"This text is likely to be hate speech.\")\n",
    "    else:\n",
    "        st.write(\"This text is neither hate speech nor offensive.\")"
   ]
  },
  {
   "cell_type": "code",
   "execution_count": null,
   "id": "0374442e",
   "metadata": {},
   "outputs": [],
   "source": []
  }
 ],
 "metadata": {
  "kernelspec": {
   "display_name": "Python 3 (ipykernel)",
   "language": "python",
   "name": "python3"
  },
  "language_info": {
   "codemirror_mode": {
    "name": "ipython",
    "version": 3
   },
   "file_extension": ".py",
   "mimetype": "text/x-python",
   "name": "python",
   "nbconvert_exporter": "python",
   "pygments_lexer": "ipython3",
   "version": "3.9.13"
  }
 },
 "nbformat": 4,
 "nbformat_minor": 5
}
