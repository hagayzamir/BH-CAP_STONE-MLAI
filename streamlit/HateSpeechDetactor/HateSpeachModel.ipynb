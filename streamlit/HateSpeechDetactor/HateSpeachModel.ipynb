{
 "cells": [
  {
   "cell_type": "code",
   "execution_count": 1,
   "id": "e82a04bb",
   "metadata": {},
   "outputs": [
    {
     "name": "stdout",
     "output_type": "stream",
     "text": [
      "Model accuracy: 0.9011432414256894\n"
     ]
    },
    {
     "data": {
      "text/plain": [
       "['hate_speech_detector.joblib']"
      ]
     },
     "execution_count": 1,
     "metadata": {},
     "output_type": "execute_result"
    }
   ],
   "source": [
    "# Import necessary libraries\n",
    "import pandas as pd\n",
    "from nltk.stem import PorterStemmer, WordNetLemmatizer\n",
    "from nltk.tokenize import TweetTokenizer\n",
    "from nltk.corpus import stopwords\n",
    "from sklearn.feature_extraction.text import CountVectorizer\n",
    "from sklearn.model_selection import train_test_split\n",
    "from sklearn.ensemble import AdaBoostClassifier\n",
    "from sklearn.pipeline import Pipeline\n",
    "from sklearn.metrics import accuracy_score\n",
    "import joblib\n",
    "\n",
    "\n",
    "# Read the CSV file into a DataFrame\n",
    "df = pd.read_csv('../../data/original_raw_data.csv')\n",
    "\n",
    "# Removing the 'Unnamed: 0' column\n",
    "df = df.drop('Unnamed: 0', axis=1)\n",
    "\n",
    "# Initialize lemmatizer, stemmer and TweetTokenizer\n",
    "lemmatizer = WordNetLemmatizer()\n",
    "stemmer = PorterStemmer()\n",
    "tweet_tokenizer = TweetTokenizer()\n",
    "\n",
    "# Define stopwords\n",
    "stop_words = set(stopwords.words('english'))\n",
    "\n",
    "# Remove 'rt' as it refer to a re-tweet in the tweeet and is non important for our model\n",
    "stop_words.update(['RT', 'I'])\n",
    "\n",
    "def preprocess_text(text):\n",
    "    # Tokenize the text\n",
    "    word_tokens = tweet_tokenizer.tokenize(text)\n",
    "\n",
    "    # Lemmatize the tokens, stem the tokens, remove stopwords and non-alphabetic tokens\n",
    "    processed_tokens = [stemmer.stem(lemmatizer.lemmatize(w)) for w in word_tokens if w not in stop_words and w.isalpha()]\n",
    "\n",
    "    # Join the tokens back into a single string and return it\n",
    "    return ' '.join(processed_tokens)\n",
    "\n",
    "# Apply the preprocessing function to the 'tweet' column\n",
    "df['processed_tweet'] = df['tweet'].apply(preprocess_text)\n",
    "\n",
    "# Prepare the text data\n",
    "X_processed = df['processed_tweet']\n",
    "y = df['class']\n",
    "\n",
    "X_train_processed, X_test_processed, y_train_processed, y_test_processed = train_test_split(X_processed, y, test_size=0.3, random_state=42)\n",
    "\n",
    "# Initialize vectorizer with optimal parameters\n",
    "vectorizer = CountVectorizer(max_features=None, min_df=5, ngram_range=(1, 1), stop_words=None)\n",
    "\n",
    "# Initialize AdaBoostClassifier\n",
    "classifier = AdaBoostClassifier(random_state=42)\n",
    "\n",
    "# Create a pipeline\n",
    "pipe = Pipeline([\n",
    "    ('count_vectorizer', vectorizer),\n",
    "    ('adaboost', classifier)\n",
    "])\n",
    "\n",
    "# Start the timer\n",
    "# start_time = time.time()\n",
    "\n",
    "# Fit the pipeline on your training data\n",
    "pipe.fit(X_train_processed, y_train_processed)\n",
    "\n",
    "# Stop the timer and print the elapsed time\n",
    "# elapsed_time = time.time() - start_time\n",
    "# print(f\"Model trained successfully. Time elapsed: {elapsed_time} seconds.\")\n",
    "\n",
    "# Use the trained model to make predictions on your test data\n",
    "y_pred = pipe.predict(X_test_processed)\n",
    "\n",
    "# Calculate the accuracy of the model\n",
    "accuracy = accuracy_score(y_test_processed, y_pred)\n",
    "print(f\"Model accuracy: {accuracy}\")\n",
    "\n",
    "# Save the model to a file\n",
    "joblib.dump(pipe, 'hate_speech_detector.joblib')"
   ]
  },
  {
   "cell_type": "code",
   "execution_count": null,
   "id": "45ef8a79",
   "metadata": {},
   "outputs": [],
   "source": []
  }
 ],
 "metadata": {
  "kernelspec": {
   "display_name": "Python 3 (ipykernel)",
   "language": "python",
   "name": "python3"
  },
  "language_info": {
   "codemirror_mode": {
    "name": "ipython",
    "version": 3
   },
   "file_extension": ".py",
   "mimetype": "text/x-python",
   "name": "python",
   "nbconvert_exporter": "python",
   "pygments_lexer": "ipython3",
   "version": "3.9.13"
  }
 },
 "nbformat": 4,
 "nbformat_minor": 5
}
